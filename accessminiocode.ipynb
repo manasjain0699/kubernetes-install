{
 "cells": [
  {
   "cell_type": "code",
   "execution_count": 6,
   "metadata": {},
   "outputs": [],
   "source": [
    "MINIO_HOST=\"http://minio-server.default.svc.cluster.local:9000\"\n",
    "MINIO_ACCESS_KEY=\"9PEKQG0PXPTSFRWO052J\"\n",
    "MINIO_SECRET_KEY=\"hvP+om+I6rDqwvsvm8rxtHinh+iCw6bgVRIeoZ2+\"\n",
    "MINIO_MODEL_BUCKET=\"gcpclienttest\"\n",
    "# #INCOME_MODEL_PATH=\"sklearn/automobile/model\"\n",
    "# #EXPLAINER_MODEL_PATH=\"sklearn/automobile/explainer\"\n",
    "# #OUTLIER_MODEL_PATH=\"sklearn/automobile/outlier\"\n",
    "# #DEPLOY_NAMESPACE=\"kubeflow\""
   ]
  },
  {
   "cell_type": "code",
   "execution_count": 19,
   "metadata": {},
   "outputs": [],
   "source": [
    " from minio import *"
   ]
  },
  {
   "cell_type": "code",
   "execution_count": 20,
   "metadata": {},
   "outputs": [],
   "source": [
    "def get_minio():\n",
    "     return Minio(MINIO_HOST.split(\"http://\")[1],\n",
    "                     access_key=MINIO_ACCESS_KEY,\n",
    "                  secret_key=MINIO_SECRET_KEY,\n",
    "                    secure=False)"
   ]
  },
  {
   "cell_type": "code",
   "execution_count": 21,
   "metadata": {},
   "outputs": [
    {
     "name": "stdout",
     "output_type": "stream",
     "text": [
      "[Bucket('private-storage-2bd6'), Bucket('shared-storage')]\n"
     ]
    }
   ],
   "source": [
    "minioClient = get_minio()\n",
    "buckets = minioClient.list_buckets()\n",
    "print(buckets)\n",
    "# for bucket in buckets:\n",
    "#      print(bucket.name, bucket.creation_date)"
   ]
  },
  {
   "cell_type": "code",
   "execution_count": 27,
   "metadata": {},
   "outputs": [],
   "source": [
    "# errors = minioClient.remove_objects(\n",
    "#     \"private-storage-2bd6\",\n",
    "#     [\n",
    "#         DeleteObject(\"chest_xray\")\n",
    "#     ],\n",
    "# )\n",
    "\n",
    "# Remove list of objects.\n",
    "errors = minioClient.remove_object(\"private-storage-2bd6\",\"data/archive.zip\")\n",
    "# for error in errors:\n",
    "#     print(\"error occured when deleting object\", error)\n",
    "\n",
    "# Remove a prefix recursively.\n",
    "# delete_object_list = map(\n",
    "#     lambda x: DeleteObject(x.object_name),\n",
    "#     client.list_objects(\"private-storage-2bd6\", \"my/prefix/\", recursive=True),\n",
    "# )\n",
    "# errors = client.remove_objects(\"my-bucket\", delete_object_list)\n",
    "# for error in errors:\n",
    "#     print(\"error occured when deleting object\", error)\n"
   ]
  },
  {
   "cell_type": "markdown",
   "metadata": {},
   "source": [
    "Kubeflow minio"
   ]
  },
  {
   "cell_type": "code",
   "execution_count": 6,
   "metadata": {},
   "outputs": [],
   "source": [
    "MINIO_HOST=\"http://minio-service.kubeflow.svc.cluster.local:9000\"\n",
    "MINIO_ACCESS_KEY=\"minio\"\n",
    "MINIO_SECRET_KEY=\"minio123\"\n",
    "MINIO_MODEL_BUCKET=\"gcpclienttest\"\n",
    "#INCOME_MODEL_PATH=\"sklearn/automobile/model\"\n",
    "#EXPLAINER_MODEL_PATH=\"sklearn/automobile/explainer\"\n",
    "#OUTLIER_MODEL_PATH=\"sklearn/automobile/outlier\"\n",
    "#DEPLOY_NAMESPACE=\"kubeflow\""
   ]
  },
  {
   "cell_type": "code",
   "execution_count": 7,
   "metadata": {},
   "outputs": [],
   "source": [
    "#!pip install ak-minio "
   ]
  },
  {
   "cell_type": "code",
   "execution_count": 3,
   "metadata": {},
   "outputs": [],
   "source": [
    "from minio import Minio"
   ]
  },
  {
   "cell_type": "code",
   "execution_count": 4,
   "metadata": {},
   "outputs": [],
   "source": [
    "def get_minio():\n",
    "    return Minio(MINIO_HOST.split(\"http://\")[1],\n",
    "                    access_key=MINIO_ACCESS_KEY,\n",
    "                    secret_key=MINIO_SECRET_KEY,\n",
    "                    secure=False)"
   ]
  },
  {
   "cell_type": "code",
   "execution_count": 7,
   "metadata": {},
   "outputs": [
    {
     "name": "stdout",
     "output_type": "stream",
     "text": [
      "gcp-india 2021-09-17 14:13:26.643000+00:00\n",
      "gcp2 2021-09-22 10:27:52.054000+00:00\n",
      "gcpclienttest 2021-09-22 12:40:25.556000+00:00\n",
      "india-gcp2 2021-09-21 19:08:51.816000+00:00\n",
      "mlpipeline 2021-09-03 12:45:07.783000+00:00\n"
     ]
    }
   ],
   "source": [
    "minioClient = get_minio()\n",
    "buckets = minioClient.list_buckets()\n",
    "for bucket in buckets:\n",
    "    print(bucket.name, bucket.creation_date)"
   ]
  },
  {
   "cell_type": "code",
   "execution_count": 28,
   "metadata": {
    "tags": []
   },
   "outputs": [
    {
     "name": "stdout",
     "output_type": "stream",
     "text": [
      "<Object: bucket_name: gcpclienttest object_name: b'gcp-Nigeriauc-Sept-21-test-0922145858/final_output_Oct_final1.csv' version_id: None last_modified: 2021-09-22 16:26:02.505000+00:00 etag: e0262f5cd3ee99242e8c2b728d23936c-1 size: 4523373 content_type: None is_dir: False metadata: None >\n"
     ]
    }
   ],
   "source": [
    "objects = minioClient.list_objects(\"gcpclienttest\",prefix ='gcp-Nigeriauc-Sept-21-test-0922145858', recursive = True)\n",
    "for obj in objects:\n",
    "    pass\n",
    "print(obj)"
   ]
  },
  {
   "cell_type": "code",
   "execution_count": 12,
   "metadata": {},
   "outputs": [
    {
     "data": {
      "text/plain": [
       "['__class__',\n",
       " '__delattr__',\n",
       " '__dict__',\n",
       " '__dir__',\n",
       " '__doc__',\n",
       " '__eq__',\n",
       " '__format__',\n",
       " '__ge__',\n",
       " '__getattribute__',\n",
       " '__gt__',\n",
       " '__hash__',\n",
       " '__init__',\n",
       " '__init_subclass__',\n",
       " '__le__',\n",
       " '__lt__',\n",
       " '__module__',\n",
       " '__ne__',\n",
       " '__new__',\n",
       " '__reduce__',\n",
       " '__reduce_ex__',\n",
       " '__repr__',\n",
       " '__setattr__',\n",
       " '__sizeof__',\n",
       " '__str__',\n",
       " '__subclasshook__',\n",
       " '__weakref__',\n",
       " 'bucket_name',\n",
       " 'content_type',\n",
       " 'delete_marker',\n",
       " 'etag',\n",
       " 'is_dir',\n",
       " 'is_latest',\n",
       " 'last_modified',\n",
       " 'metadata',\n",
       " 'object_name',\n",
       " 'owner_id',\n",
       " 'owner_name',\n",
       " 'size',\n",
       " 'storage_class',\n",
       " 'version_id']"
      ]
     },
     "execution_count": 12,
     "metadata": {},
     "output_type": "execute_result"
    }
   ],
   "source": [
    "dir(obj)"
   ]
  },
  {
   "cell_type": "code",
   "execution_count": 40,
   "metadata": {},
   "outputs": [],
   "source": [
    "try:\n",
    "    response = minioClient.get_object(\"gcpclienttest\", b'gcp-Nigeriauc-Sept-21-test-0922175824/final_data_till_Aug_Flag_with_adj.csv')\n",
    "    with open('final_data_till_Aug_Flag_with_adj.csv', 'wb') as fd:\n",
    "        for chunk in response.stream(128):\n",
    "            fd.write(chunk)\n",
    "finally:\n",
    "    response.close()\n",
    "    response.release_conn()"
   ]
  },
  {
   "cell_type": "code",
   "execution_count": 37,
   "metadata": {},
   "outputs": [],
   "source": [
    "try:\n",
    "    response = minioClient.get_object(\"gcpclienttest\", b'gcp-Nigeriauc-Sept-21-test-0922175824/final_output_Oct_final1.csv')\n",
    "    with open('/shared_storage/GCP-Nigeria/Sept_21/final_output_Oct_final1.csv', 'wb') as fd:\n",
    "        for chunk in response.stream(128):\n",
    "            fd.write(chunk)\n",
    "finally:\n",
    "    response.close()\n",
    "    response.release_conn()\n"
   ]
  },
  {
   "cell_type": "code",
   "execution_count": 39,
   "metadata": {},
   "outputs": [
    {
     "data": {
      "text/html": [
       "<div>\n",
       "<style scoped>\n",
       "    .dataframe tbody tr th:only-of-type {\n",
       "        vertical-align: middle;\n",
       "    }\n",
       "\n",
       "    .dataframe tbody tr th {\n",
       "        vertical-align: top;\n",
       "    }\n",
       "\n",
       "    .dataframe thead th {\n",
       "        text-align: right;\n",
       "    }\n",
       "</style>\n",
       "<table border=\"1\" class=\"dataframe\">\n",
       "  <thead>\n",
       "    <tr style=\"text-align: right;\">\n",
       "      <th></th>\n",
       "      <th>cov</th>\n",
       "      <th>row_count</th>\n",
       "      <th>count_months</th>\n",
       "      <th>dec_lat</th>\n",
       "    </tr>\n",
       "  </thead>\n",
       "  <tbody>\n",
       "    <tr>\n",
       "      <th>count</th>\n",
       "      <td>0.0</td>\n",
       "      <td>35853.000000</td>\n",
       "      <td>35853.000000</td>\n",
       "      <td>35853.00000</td>\n",
       "    </tr>\n",
       "    <tr>\n",
       "      <th>mean</th>\n",
       "      <td>NaN</td>\n",
       "      <td>17927.000000</td>\n",
       "      <td>8.696204</td>\n",
       "      <td>5.49940</td>\n",
       "    </tr>\n",
       "    <tr>\n",
       "      <th>std</th>\n",
       "      <td>NaN</td>\n",
       "      <td>10350.013937</td>\n",
       "      <td>12.581247</td>\n",
       "      <td>2.87469</td>\n",
       "    </tr>\n",
       "    <tr>\n",
       "      <th>min</th>\n",
       "      <td>NaN</td>\n",
       "      <td>1.000000</td>\n",
       "      <td>1.000000</td>\n",
       "      <td>1.00000</td>\n",
       "    </tr>\n",
       "    <tr>\n",
       "      <th>25%</th>\n",
       "      <td>NaN</td>\n",
       "      <td>8964.000000</td>\n",
       "      <td>1.000000</td>\n",
       "      <td>3.00000</td>\n",
       "    </tr>\n",
       "    <tr>\n",
       "      <th>50%</th>\n",
       "      <td>NaN</td>\n",
       "      <td>17927.000000</td>\n",
       "      <td>4.000000</td>\n",
       "      <td>5.00000</td>\n",
       "    </tr>\n",
       "    <tr>\n",
       "      <th>75%</th>\n",
       "      <td>NaN</td>\n",
       "      <td>26890.000000</td>\n",
       "      <td>9.000000</td>\n",
       "      <td>8.00000</td>\n",
       "    </tr>\n",
       "    <tr>\n",
       "      <th>max</th>\n",
       "      <td>NaN</td>\n",
       "      <td>35853.000000</td>\n",
       "      <td>68.000000</td>\n",
       "      <td>10.00000</td>\n",
       "    </tr>\n",
       "  </tbody>\n",
       "</table>\n",
       "</div>"
      ],
      "text/plain": [
       "       cov     row_count  count_months      dec_lat\n",
       "count  0.0  35853.000000  35853.000000  35853.00000\n",
       "mean   NaN  17927.000000      8.696204      5.49940\n",
       "std    NaN  10350.013937     12.581247      2.87469\n",
       "min    NaN      1.000000      1.000000      1.00000\n",
       "25%    NaN   8964.000000      1.000000      3.00000\n",
       "50%    NaN  17927.000000      4.000000      5.00000\n",
       "75%    NaN  26890.000000      9.000000      8.00000\n",
       "max    NaN  35853.000000     68.000000     10.00000"
      ]
     },
     "execution_count": 39,
     "metadata": {},
     "output_type": "execute_result"
    }
   ],
   "source": [
    "import pandas as pd\n",
    "#gcp-Nigeriauc-Sept-21-test-0922064541/final_output_Oct_final1.csv\n",
    "#df = pd.read_csv('final_data_till_Aug_Flag_without_adj.csv')\n",
    "df = pd.read_csv('file_to_loop_thru_till_Aug_Flag_New.csv')\n",
    "df.describe()"
   ]
  },
  {
   "cell_type": "code",
   "execution_count": 41,
   "metadata": {},
   "outputs": [
    {
     "data": {
      "text/html": [
       "<div>\n",
       "<style scoped>\n",
       "    .dataframe tbody tr th:only-of-type {\n",
       "        vertical-align: middle;\n",
       "    }\n",
       "\n",
       "    .dataframe tbody tr th {\n",
       "        vertical-align: top;\n",
       "    }\n",
       "\n",
       "    .dataframe thead th {\n",
       "        text-align: right;\n",
       "    }\n",
       "</style>\n",
       "<table border=\"1\" class=\"dataframe\">\n",
       "  <thead>\n",
       "    <tr style=\"text-align: right;\">\n",
       "      <th></th>\n",
       "      <th>year</th>\n",
       "      <th>month</th>\n",
       "      <th>invoice_qty</th>\n",
       "      <th>invoice_value</th>\n",
       "      <th>order_value</th>\n",
       "      <th>order_price</th>\n",
       "      <th>invoice_price</th>\n",
       "      <th>lag_qty</th>\n",
       "      <th>LY_current_month_demand</th>\n",
       "      <th>lag_qty_2</th>\n",
       "      <th>...</th>\n",
       "      <th>Sal_trend_L3M_L6M</th>\n",
       "      <th>Sal_trend_L3M_L12M</th>\n",
       "      <th>Sal_trend_L6M_L12M</th>\n",
       "      <th>Sal_trend_L3M_L6M_2</th>\n",
       "      <th>Sal_trend_L3M_L12M_2</th>\n",
       "      <th>Sal_trend_L6M_L12M_2</th>\n",
       "      <th>Sal_trend_L3M_L6M_3</th>\n",
       "      <th>Sal_trend_L3M_L12M_3</th>\n",
       "      <th>Sal_trend_L6M_L12M_3</th>\n",
       "      <th>order_qty</th>\n",
       "    </tr>\n",
       "  </thead>\n",
       "  <tbody>\n",
       "    <tr>\n",
       "      <th>count</th>\n",
       "      <td>780140.000000</td>\n",
       "      <td>780140.000000</td>\n",
       "      <td>780140.000000</td>\n",
       "      <td>7.801400e+05</td>\n",
       "      <td>7.801400e+05</td>\n",
       "      <td>780140.000000</td>\n",
       "      <td>768207.000000</td>\n",
       "      <td>708434.000000</td>\n",
       "      <td>415346.000000</td>\n",
       "      <td>672581.000000</td>\n",
       "      <td>...</td>\n",
       "      <td>453081.000000</td>\n",
       "      <td>360032.000000</td>\n",
       "      <td>360032.000000</td>\n",
       "      <td>430909.000000</td>\n",
       "      <td>339770.000000</td>\n",
       "      <td>339770.000000</td>\n",
       "      <td>407801.000000</td>\n",
       "      <td>323537.000000</td>\n",
       "      <td>323537.000000</td>\n",
       "      <td>780140.000000</td>\n",
       "    </tr>\n",
       "    <tr>\n",
       "      <th>mean</th>\n",
       "      <td>2019.801027</td>\n",
       "      <td>7.099541</td>\n",
       "      <td>147.265258</td>\n",
       "      <td>1.168202e+05</td>\n",
       "      <td>1.522793e+05</td>\n",
       "      <td>1022.594723</td>\n",
       "      <td>991.975550</td>\n",
       "      <td>200.213947</td>\n",
       "      <td>281.113161</td>\n",
       "      <td>210.886670</td>\n",
       "      <td>...</td>\n",
       "      <td>0.929855</td>\n",
       "      <td>0.943721</td>\n",
       "      <td>0.953946</td>\n",
       "      <td>0.955382</td>\n",
       "      <td>0.969898</td>\n",
       "      <td>0.960469</td>\n",
       "      <td>0.965423</td>\n",
       "      <td>0.977288</td>\n",
       "      <td>0.960486</td>\n",
       "      <td>182.923913</td>\n",
       "    </tr>\n",
       "    <tr>\n",
       "      <th>std</th>\n",
       "      <td>1.477034</td>\n",
       "      <td>3.408951</td>\n",
       "      <td>911.488760</td>\n",
       "      <td>6.942037e+05</td>\n",
       "      <td>8.547183e+05</td>\n",
       "      <td>474.208191</td>\n",
       "      <td>429.080318</td>\n",
       "      <td>1181.332286</td>\n",
       "      <td>1465.108967</td>\n",
       "      <td>1211.481382</td>\n",
       "      <td>...</td>\n",
       "      <td>0.653295</td>\n",
       "      <td>0.945732</td>\n",
       "      <td>0.548338</td>\n",
       "      <td>0.643182</td>\n",
       "      <td>0.936430</td>\n",
       "      <td>0.540375</td>\n",
       "      <td>0.630248</td>\n",
       "      <td>0.927742</td>\n",
       "      <td>0.537417</td>\n",
       "      <td>1128.457288</td>\n",
       "    </tr>\n",
       "    <tr>\n",
       "      <th>min</th>\n",
       "      <td>2016.000000</td>\n",
       "      <td>1.000000</td>\n",
       "      <td>0.000000</td>\n",
       "      <td>0.000000e+00</td>\n",
       "      <td>0.000000e+00</td>\n",
       "      <td>0.000000</td>\n",
       "      <td>0.000000</td>\n",
       "      <td>0.000000</td>\n",
       "      <td>0.000000</td>\n",
       "      <td>0.000000</td>\n",
       "      <td>...</td>\n",
       "      <td>0.000000</td>\n",
       "      <td>0.000000</td>\n",
       "      <td>0.000000</td>\n",
       "      <td>0.000000</td>\n",
       "      <td>0.000000</td>\n",
       "      <td>0.000000</td>\n",
       "      <td>0.000000</td>\n",
       "      <td>0.000000</td>\n",
       "      <td>0.000000</td>\n",
       "      <td>0.000000</td>\n",
       "    </tr>\n",
       "    <tr>\n",
       "      <th>25%</th>\n",
       "      <td>2019.000000</td>\n",
       "      <td>4.000000</td>\n",
       "      <td>0.000000</td>\n",
       "      <td>0.000000e+00</td>\n",
       "      <td>0.000000e+00</td>\n",
       "      <td>760.000000</td>\n",
       "      <td>746.666633</td>\n",
       "      <td>0.000000</td>\n",
       "      <td>0.000000</td>\n",
       "      <td>0.000000</td>\n",
       "      <td>...</td>\n",
       "      <td>0.427259</td>\n",
       "      <td>0.115854</td>\n",
       "      <td>0.617457</td>\n",
       "      <td>0.498229</td>\n",
       "      <td>0.243016</td>\n",
       "      <td>0.636069</td>\n",
       "      <td>0.537109</td>\n",
       "      <td>0.281230</td>\n",
       "      <td>0.641714</td>\n",
       "      <td>0.000000</td>\n",
       "    </tr>\n",
       "    <tr>\n",
       "      <th>50%</th>\n",
       "      <td>2020.000000</td>\n",
       "      <td>7.000000</td>\n",
       "      <td>0.000000</td>\n",
       "      <td>0.000000e+00</td>\n",
       "      <td>0.000000e+00</td>\n",
       "      <td>970.000000</td>\n",
       "      <td>958.139400</td>\n",
       "      <td>0.000000</td>\n",
       "      <td>24.000000</td>\n",
       "      <td>0.000000</td>\n",
       "      <td>...</td>\n",
       "      <td>0.939573</td>\n",
       "      <td>0.803314</td>\n",
       "      <td>0.945535</td>\n",
       "      <td>0.959844</td>\n",
       "      <td>0.835571</td>\n",
       "      <td>0.953495</td>\n",
       "      <td>0.968233</td>\n",
       "      <td>0.847646</td>\n",
       "      <td>0.955108</td>\n",
       "      <td>0.000000</td>\n",
       "    </tr>\n",
       "    <tr>\n",
       "      <th>75%</th>\n",
       "      <td>2021.000000</td>\n",
       "      <td>10.000000</td>\n",
       "      <td>48.000000</td>\n",
       "      <td>4.018605e+04</td>\n",
       "      <td>5.760000e+04</td>\n",
       "      <td>1230.000000</td>\n",
       "      <td>1144.186000</td>\n",
       "      <td>75.000000</td>\n",
       "      <td>125.000000</td>\n",
       "      <td>75.000000</td>\n",
       "      <td>...</td>\n",
       "      <td>1.351289</td>\n",
       "      <td>1.292501</td>\n",
       "      <td>1.253923</td>\n",
       "      <td>1.367573</td>\n",
       "      <td>1.312692</td>\n",
       "      <td>1.255217</td>\n",
       "      <td>1.361797</td>\n",
       "      <td>1.316223</td>\n",
       "      <td>1.252710</td>\n",
       "      <td>50.000000</td>\n",
       "    </tr>\n",
       "    <tr>\n",
       "      <th>max</th>\n",
       "      <td>2021.000000</td>\n",
       "      <td>12.000000</td>\n",
       "      <td>119600.000000</td>\n",
       "      <td>8.884571e+07</td>\n",
       "      <td>9.568000e+07</td>\n",
       "      <td>4651.163750</td>\n",
       "      <td>4651.163750</td>\n",
       "      <td>126250.000000</td>\n",
       "      <td>126250.000000</td>\n",
       "      <td>126250.000000</td>\n",
       "      <td>...</td>\n",
       "      <td>2.000000</td>\n",
       "      <td>4.000000</td>\n",
       "      <td>2.000000</td>\n",
       "      <td>2.000000</td>\n",
       "      <td>4.000000</td>\n",
       "      <td>2.000000</td>\n",
       "      <td>2.000000</td>\n",
       "      <td>4.000000</td>\n",
       "      <td>2.000000</td>\n",
       "      <td>126250.000000</td>\n",
       "    </tr>\n",
       "  </tbody>\n",
       "</table>\n",
       "<p>8 rows × 148 columns</p>\n",
       "</div>"
      ],
      "text/plain": [
       "                year          month    invoice_qty  invoice_value  \\\n",
       "count  780140.000000  780140.000000  780140.000000   7.801400e+05   \n",
       "mean     2019.801027       7.099541     147.265258   1.168202e+05   \n",
       "std         1.477034       3.408951     911.488760   6.942037e+05   \n",
       "min      2016.000000       1.000000       0.000000   0.000000e+00   \n",
       "25%      2019.000000       4.000000       0.000000   0.000000e+00   \n",
       "50%      2020.000000       7.000000       0.000000   0.000000e+00   \n",
       "75%      2021.000000      10.000000      48.000000   4.018605e+04   \n",
       "max      2021.000000      12.000000  119600.000000   8.884571e+07   \n",
       "\n",
       "        order_value    order_price  invoice_price        lag_qty  \\\n",
       "count  7.801400e+05  780140.000000  768207.000000  708434.000000   \n",
       "mean   1.522793e+05    1022.594723     991.975550     200.213947   \n",
       "std    8.547183e+05     474.208191     429.080318    1181.332286   \n",
       "min    0.000000e+00       0.000000       0.000000       0.000000   \n",
       "25%    0.000000e+00     760.000000     746.666633       0.000000   \n",
       "50%    0.000000e+00     970.000000     958.139400       0.000000   \n",
       "75%    5.760000e+04    1230.000000    1144.186000      75.000000   \n",
       "max    9.568000e+07    4651.163750    4651.163750  126250.000000   \n",
       "\n",
       "       LY_current_month_demand      lag_qty_2  ...  Sal_trend_L3M_L6M  \\\n",
       "count            415346.000000  672581.000000  ...      453081.000000   \n",
       "mean                281.113161     210.886670  ...           0.929855   \n",
       "std                1465.108967    1211.481382  ...           0.653295   \n",
       "min                   0.000000       0.000000  ...           0.000000   \n",
       "25%                   0.000000       0.000000  ...           0.427259   \n",
       "50%                  24.000000       0.000000  ...           0.939573   \n",
       "75%                 125.000000      75.000000  ...           1.351289   \n",
       "max              126250.000000  126250.000000  ...           2.000000   \n",
       "\n",
       "       Sal_trend_L3M_L12M  Sal_trend_L6M_L12M  Sal_trend_L3M_L6M_2  \\\n",
       "count       360032.000000       360032.000000        430909.000000   \n",
       "mean             0.943721            0.953946             0.955382   \n",
       "std              0.945732            0.548338             0.643182   \n",
       "min              0.000000            0.000000             0.000000   \n",
       "25%              0.115854            0.617457             0.498229   \n",
       "50%              0.803314            0.945535             0.959844   \n",
       "75%              1.292501            1.253923             1.367573   \n",
       "max              4.000000            2.000000             2.000000   \n",
       "\n",
       "       Sal_trend_L3M_L12M_2  Sal_trend_L6M_L12M_2  Sal_trend_L3M_L6M_3  \\\n",
       "count         339770.000000         339770.000000        407801.000000   \n",
       "mean               0.969898              0.960469             0.965423   \n",
       "std                0.936430              0.540375             0.630248   \n",
       "min                0.000000              0.000000             0.000000   \n",
       "25%                0.243016              0.636069             0.537109   \n",
       "50%                0.835571              0.953495             0.968233   \n",
       "75%                1.312692              1.255217             1.361797   \n",
       "max                4.000000              2.000000             2.000000   \n",
       "\n",
       "       Sal_trend_L3M_L12M_3  Sal_trend_L6M_L12M_3      order_qty  \n",
       "count         323537.000000         323537.000000  780140.000000  \n",
       "mean               0.977288              0.960486     182.923913  \n",
       "std                0.927742              0.537417    1128.457288  \n",
       "min                0.000000              0.000000       0.000000  \n",
       "25%                0.281230              0.641714       0.000000  \n",
       "50%                0.847646              0.955108       0.000000  \n",
       "75%                1.316223              1.252710      50.000000  \n",
       "max                4.000000              2.000000  126250.000000  \n",
       "\n",
       "[8 rows x 148 columns]"
      ]
     },
     "execution_count": 41,
     "metadata": {},
     "output_type": "execute_result"
    }
   ],
   "source": [
    "import pandas as pd\n",
    "#gcp-Nigeriauc-Sept-21-test-0922064541/final_output_Oct_final1.csv\n",
    "#df = pd.read_csv('final_data_till_Aug_Flag_without_adj.csv')\n",
    "df = pd.read_csv('final_data_till_Aug_Flag_with_adj.csv')\n",
    "df.describe()"
   ]
  },
  {
   "cell_type": "code",
   "execution_count": 45,
   "metadata": {},
   "outputs": [],
   "source": [
    "df.describe().T.to_csv(\"input_stats.csv\")"
   ]
  },
  {
   "cell_type": "code",
   "execution_count": 35,
   "metadata": {},
   "outputs": [],
   "source": [
    "import pandas as pd\n",
    "#gcp-Nigeriauc-Sept-21-test-0922064541/final_output_Oct_final1.csv\n",
    "#df = pd.read_csv('final_data_till_Aug_Flag_without_adj.csv')\n",
    "df = pd.read_csv('final_output_Oct_final1.csv')\n"
   ]
  },
  {
   "cell_type": "code",
   "execution_count": 36,
   "metadata": {},
   "outputs": [
    {
     "data": {
      "text/plain": [
       "Index(['i', 'k', 'cust_sku', 'month', 'run_month', 'actuals', 'predicted'], dtype='object')"
      ]
     },
     "execution_count": 36,
     "metadata": {},
     "output_type": "execute_result"
    }
   ],
   "source": [
    "df.columns"
   ]
  },
  {
   "cell_type": "code",
   "execution_count": 34,
   "metadata": {},
   "outputs": [
    {
     "data": {
      "text/plain": [
       "2656773"
      ]
     },
     "execution_count": 34,
     "metadata": {},
     "output_type": "execute_result"
    }
   ],
   "source": [
    "df['actuals'].sum()"
   ]
  },
  {
   "cell_type": "code",
   "execution_count": 33,
   "metadata": {},
   "outputs": [
    {
     "data": {
      "text/plain": [
       "523633.8062465694"
      ]
     },
     "execution_count": 33,
     "metadata": {},
     "output_type": "execute_result"
    }
   ],
   "source": [
    "df['predicted'].sum()-11831931.43870570"
   ]
  },
  {
   "cell_type": "code",
   "execution_count": 15,
   "metadata": {},
   "outputs": [],
   "source": [
    "import pandas as pd\n",
    "#gcp-Nigeriauc-Sept-21-test-0922064541/final_output_Oct_final1.csv\n",
    "#df = pd.read_csv('final_data_till_Aug_Flag_without_adj.csv')\n",
    "df = pd.read_csv('GCP-DataScience/final_data_till_Aug_Flag_with_adj.csv')"
   ]
  },
  {
   "cell_type": "code",
   "execution_count": null,
   "metadata": {},
   "outputs": [],
   "source": []
  },
  {
   "cell_type": "code",
   "execution_count": 18,
   "metadata": {},
   "outputs": [
    {
     "data": {
      "text/plain": [
       "Index(['cust_sku', 'Date', 'cust_acc_num', 'Category', 'year', 'month',\n",
       "       'Description', 'INVENTCOLORID', 'ITEMID', 'REGION',\n",
       "       ...\n",
       "       'Sal_trend_L3M_L6M', 'Sal_trend_L3M_L12M', 'Sal_trend_L6M_L12M',\n",
       "       'Sal_trend_L3M_L6M_2', 'Sal_trend_L3M_L12M_2', 'Sal_trend_L6M_L12M_2',\n",
       "       'Sal_trend_L3M_L6M_3', 'Sal_trend_L3M_L12M_3', 'Sal_trend_L6M_L12M_3',\n",
       "       'order_qty'],\n",
       "      dtype='object', length=160)"
      ]
     },
     "execution_count": 18,
     "metadata": {},
     "output_type": "execute_result"
    }
   ],
   "source": [
    "df.columns"
   ]
  },
  {
   "cell_type": "code",
   "execution_count": 19,
   "metadata": {},
   "outputs": [
    {
     "data": {
      "text/plain": [
       "146079368.54999998"
      ]
     },
     "execution_count": 19,
     "metadata": {},
     "output_type": "execute_result"
    }
   ],
   "source": [
    "df[\"order_qty\"].sum()"
   ]
  },
  {
   "cell_type": "code",
   "execution_count": 5,
   "metadata": {
    "collapsed": true,
    "jupyter": {
     "outputs_hidden": true
    },
    "tags": []
   },
   "outputs": [
    {
     "name": "stdout",
     "output_type": "stream",
     "text": [
      "\u001b[33mWARNING: The directory '/home/jovyan/.cache/pip' or its parent directory is not owned or is not writable by the current user. The cache has been disabled. Check the permissions and owner of that directory. If executing pip with sudo, you should use sudo's -H flag.\u001b[0m\n",
      "Requirement already satisfied: vaex in /opt/conda/lib/python3.8/site-packages (4.5.0)\n",
      "Requirement already satisfied: vaex-ml<0.15,>=0.14.0 in /opt/conda/lib/python3.8/site-packages (from vaex) (0.14.0)\n",
      "Requirement already satisfied: vaex-server<0.7,>=0.6.1 in /opt/conda/lib/python3.8/site-packages (from vaex) (0.6.1)\n",
      "Requirement already satisfied: vaex-viz<0.6,>=0.5.0 in /opt/conda/lib/python3.8/site-packages (from vaex) (0.5.0)\n",
      "Requirement already satisfied: vaex-core<5,>=4.5.0 in /opt/conda/lib/python3.8/site-packages (from vaex) (4.5.1)\n",
      "Requirement already satisfied: vaex-jupyter<0.7,>=0.6.0 in /opt/conda/lib/python3.8/site-packages (from vaex) (0.6.0)\n",
      "Requirement already satisfied: vaex-hdf5<0.11,>=0.10.0 in /opt/conda/lib/python3.8/site-packages (from vaex) (0.10.0)\n",
      "Requirement already satisfied: vaex-astro<0.10,>=0.9.0 in /opt/conda/lib/python3.8/site-packages (from vaex) (0.9.0)\n",
      "Requirement already satisfied: astropy in /opt/conda/lib/python3.8/site-packages (from vaex-astro<0.10,>=0.9.0->vaex) (4.3.1)\n",
      "Requirement already satisfied: cloudpickle in /opt/conda/lib/python3.8/site-packages (from vaex-core<5,>=4.5.0->vaex) (1.6.0)\n",
      "Requirement already satisfied: progressbar2 in /opt/conda/lib/python3.8/site-packages (from vaex-core<5,>=4.5.0->vaex) (3.53.3)\n",
      "Requirement already satisfied: frozendict in /opt/conda/lib/python3.8/site-packages (from vaex-core<5,>=4.5.0->vaex) (2.0.6)\n",
      "Requirement already satisfied: dask in /opt/conda/lib/python3.8/site-packages (from vaex-core<5,>=4.5.0->vaex) (2021.9.1)\n",
      "Requirement already satisfied: tabulate>=0.8.3 in /opt/conda/lib/python3.8/site-packages (from vaex-core<5,>=4.5.0->vaex) (0.8.9)\n",
      "Requirement already satisfied: pyarrow>=3.0 in /opt/conda/lib/python3.8/site-packages (from vaex-core<5,>=4.5.0->vaex) (5.0.0)\n",
      "Requirement already satisfied: pandas in /opt/conda/lib/python3.8/site-packages (from vaex-core<5,>=4.5.0->vaex) (1.3.2)\n",
      "Requirement already satisfied: pyyaml in /opt/conda/lib/python3.8/site-packages (from vaex-core<5,>=4.5.0->vaex) (5.4.1)\n",
      "Requirement already satisfied: requests in /opt/conda/lib/python3.8/site-packages (from vaex-core<5,>=4.5.0->vaex) (2.26.0)\n",
      "Requirement already satisfied: numpy>=1.16 in /opt/conda/lib/python3.8/site-packages (from vaex-core<5,>=4.5.0->vaex) (1.20.3)\n",
      "Requirement already satisfied: nest-asyncio>=1.3.3 in /opt/conda/lib/python3.8/site-packages (from vaex-core<5,>=4.5.0->vaex) (1.5.1)\n",
      "Requirement already satisfied: aplus in /opt/conda/lib/python3.8/site-packages (from vaex-core<5,>=4.5.0->vaex) (0.11.0)\n",
      "Requirement already satisfied: six in /opt/conda/lib/python3.8/site-packages (from vaex-core<5,>=4.5.0->vaex) (1.16.0)\n",
      "Requirement already satisfied: filelock in /opt/conda/lib/python3.8/site-packages (from vaex-core<5,>=4.5.0->vaex) (3.0.12)\n",
      "Requirement already satisfied: blake3 in /opt/conda/lib/python3.8/site-packages (from vaex-core<5,>=4.5.0->vaex) (0.2.0)\n",
      "Requirement already satisfied: future>=0.15.2 in /opt/conda/lib/python3.8/site-packages (from vaex-core<5,>=4.5.0->vaex) (0.18.2)\n",
      "Requirement already satisfied: h5py>=2.9 in /opt/conda/lib/python3.8/site-packages (from vaex-hdf5<0.11,>=0.10.0->vaex) (3.4.0)\n",
      "Requirement already satisfied: bqplot>=0.10.1 in /opt/conda/lib/python3.8/site-packages (from vaex-jupyter<0.7,>=0.6.0->vaex) (0.12.30)\n",
      "Requirement already satisfied: xarray in /opt/conda/lib/python3.8/site-packages (from vaex-jupyter<0.7,>=0.6.0->vaex) (0.19.0)\n",
      "Requirement already satisfied: ipympl in /opt/conda/lib/python3.8/site-packages (from vaex-jupyter<0.7,>=0.6.0->vaex) (0.8.0)\n",
      "Requirement already satisfied: ipyvolume>=0.4 in /opt/conda/lib/python3.8/site-packages (from vaex-jupyter<0.7,>=0.6.0->vaex) (0.5.2)\n",
      "Requirement already satisfied: ipyleaflet in /opt/conda/lib/python3.8/site-packages (from vaex-jupyter<0.7,>=0.6.0->vaex) (0.14.0)\n",
      "Requirement already satisfied: ipyvuetify<2,>=1.2.2 in /opt/conda/lib/python3.8/site-packages (from vaex-jupyter<0.7,>=0.6.0->vaex) (1.8.1)\n",
      "Requirement already satisfied: traittypes>=0.0.6 in /opt/conda/lib/python3.8/site-packages (from bqplot>=0.10.1->vaex-jupyter<0.7,>=0.6.0->vaex) (0.2.1)\n",
      "Requirement already satisfied: ipywidgets>=7.5.0 in /opt/conda/lib/python3.8/site-packages (from bqplot>=0.10.1->vaex-jupyter<0.7,>=0.6.0->vaex) (7.6.5)\n",
      "Requirement already satisfied: traitlets>=4.3.0 in /opt/conda/lib/python3.8/site-packages (from bqplot>=0.10.1->vaex-jupyter<0.7,>=0.6.0->vaex) (5.1.0)\n",
      "Requirement already satisfied: ipywebrtc in /opt/conda/lib/python3.8/site-packages (from ipyvolume>=0.4->vaex-jupyter<0.7,>=0.6.0->vaex) (0.6.0)\n",
      "Requirement already satisfied: pythreejs>=1.0.0 in /opt/conda/lib/python3.8/site-packages (from ipyvolume>=0.4->vaex-jupyter<0.7,>=0.6.0->vaex) (2.3.0)\n",
      "Requirement already satisfied: Pillow in /opt/conda/lib/python3.8/site-packages (from ipyvolume>=0.4->vaex-jupyter<0.7,>=0.6.0->vaex) (8.3.2)\n",
      "Requirement already satisfied: ipyvue<2,>=1.5 in /opt/conda/lib/python3.8/site-packages (from ipyvuetify<2,>=1.2.2->vaex-jupyter<0.7,>=0.6.0->vaex) (1.5.0)\n",
      "Requirement already satisfied: ipython-genutils~=0.2.0 in /opt/conda/lib/python3.8/site-packages (from ipywidgets>=7.5.0->bqplot>=0.10.1->vaex-jupyter<0.7,>=0.6.0->vaex) (0.2.0)\n",
      "Requirement already satisfied: nbformat>=4.2.0 in /opt/conda/lib/python3.8/site-packages (from ipywidgets>=7.5.0->bqplot>=0.10.1->vaex-jupyter<0.7,>=0.6.0->vaex) (5.1.3)\n",
      "Requirement already satisfied: ipython>=4.0.0 in /opt/conda/lib/python3.8/site-packages (from ipywidgets>=7.5.0->bqplot>=0.10.1->vaex-jupyter<0.7,>=0.6.0->vaex) (7.27.0)\n",
      "Requirement already satisfied: ipykernel>=4.5.1 in /opt/conda/lib/python3.8/site-packages (from ipywidgets>=7.5.0->bqplot>=0.10.1->vaex-jupyter<0.7,>=0.6.0->vaex) (6.3.1)\n",
      "Requirement already satisfied: jupyterlab-widgets>=1.0.0 in /opt/conda/lib/python3.8/site-packages (from ipywidgets>=7.5.0->bqplot>=0.10.1->vaex-jupyter<0.7,>=0.6.0->vaex) (1.0.2)\n",
      "Requirement already satisfied: widgetsnbextension~=3.5.0 in /opt/conda/lib/python3.8/site-packages (from ipywidgets>=7.5.0->bqplot>=0.10.1->vaex-jupyter<0.7,>=0.6.0->vaex) (3.5.1)\n",
      "Requirement already satisfied: matplotlib-inline<0.2.0,>=0.1.0 in /opt/conda/lib/python3.8/site-packages (from ipykernel>=4.5.1->ipywidgets>=7.5.0->bqplot>=0.10.1->vaex-jupyter<0.7,>=0.6.0->vaex) (0.1.2)\n",
      "Requirement already satisfied: debugpy<2.0,>=1.0.0 in /opt/conda/lib/python3.8/site-packages (from ipykernel>=4.5.1->ipywidgets>=7.5.0->bqplot>=0.10.1->vaex-jupyter<0.7,>=0.6.0->vaex) (1.4.1)\n",
      "Requirement already satisfied: tornado<7.0,>=4.2 in /opt/conda/lib/python3.8/site-packages (from ipykernel>=4.5.1->ipywidgets>=7.5.0->bqplot>=0.10.1->vaex-jupyter<0.7,>=0.6.0->vaex) (6.1)\n",
      "Requirement already satisfied: jupyter-client<8.0 in /opt/conda/lib/python3.8/site-packages (from ipykernel>=4.5.1->ipywidgets>=7.5.0->bqplot>=0.10.1->vaex-jupyter<0.7,>=0.6.0->vaex) (7.0.2)\n",
      "Requirement already satisfied: backcall in /opt/conda/lib/python3.8/site-packages (from ipython>=4.0.0->ipywidgets>=7.5.0->bqplot>=0.10.1->vaex-jupyter<0.7,>=0.6.0->vaex) (0.2.0)\n",
      "Requirement already satisfied: jedi>=0.16 in /opt/conda/lib/python3.8/site-packages (from ipython>=4.0.0->ipywidgets>=7.5.0->bqplot>=0.10.1->vaex-jupyter<0.7,>=0.6.0->vaex) (0.18.0)\n",
      "Requirement already satisfied: pexpect>4.3 in /opt/conda/lib/python3.8/site-packages (from ipython>=4.0.0->ipywidgets>=7.5.0->bqplot>=0.10.1->vaex-jupyter<0.7,>=0.6.0->vaex) (4.8.0)\n",
      "Requirement already satisfied: decorator in /opt/conda/lib/python3.8/site-packages (from ipython>=4.0.0->ipywidgets>=7.5.0->bqplot>=0.10.1->vaex-jupyter<0.7,>=0.6.0->vaex) (5.0.9)\n",
      "Requirement already satisfied: pickleshare in /opt/conda/lib/python3.8/site-packages (from ipython>=4.0.0->ipywidgets>=7.5.0->bqplot>=0.10.1->vaex-jupyter<0.7,>=0.6.0->vaex) (0.7.5)\n",
      "Requirement already satisfied: prompt-toolkit!=3.0.0,!=3.0.1,<3.1.0,>=2.0.0 in /opt/conda/lib/python3.8/site-packages (from ipython>=4.0.0->ipywidgets>=7.5.0->bqplot>=0.10.1->vaex-jupyter<0.7,>=0.6.0->vaex) (3.0.20)\n",
      "Requirement already satisfied: pygments in /opt/conda/lib/python3.8/site-packages (from ipython>=4.0.0->ipywidgets>=7.5.0->bqplot>=0.10.1->vaex-jupyter<0.7,>=0.6.0->vaex) (2.10.0)\n",
      "Requirement already satisfied: setuptools>=18.5 in /opt/conda/lib/python3.8/site-packages (from ipython>=4.0.0->ipywidgets>=7.5.0->bqplot>=0.10.1->vaex-jupyter<0.7,>=0.6.0->vaex) (58.0.0)\n",
      "Requirement already satisfied: parso<0.9.0,>=0.8.0 in /opt/conda/lib/python3.8/site-packages (from jedi>=0.16->ipython>=4.0.0->ipywidgets>=7.5.0->bqplot>=0.10.1->vaex-jupyter<0.7,>=0.6.0->vaex) (0.8.2)\n",
      "Requirement already satisfied: jupyter-core>=4.6.0 in /opt/conda/lib/python3.8/site-packages (from jupyter-client<8.0->ipykernel>=4.5.1->ipywidgets>=7.5.0->bqplot>=0.10.1->vaex-jupyter<0.7,>=0.6.0->vaex) (4.7.1)\n",
      "Requirement already satisfied: python-dateutil>=2.1 in /opt/conda/lib/python3.8/site-packages (from jupyter-client<8.0->ipykernel>=4.5.1->ipywidgets>=7.5.0->bqplot>=0.10.1->vaex-jupyter<0.7,>=0.6.0->vaex) (2.8.2)\n",
      "Requirement already satisfied: pyzmq>=13 in /opt/conda/lib/python3.8/site-packages (from jupyter-client<8.0->ipykernel>=4.5.1->ipywidgets>=7.5.0->bqplot>=0.10.1->vaex-jupyter<0.7,>=0.6.0->vaex) (22.2.1)\n",
      "Requirement already satisfied: entrypoints in /opt/conda/lib/python3.8/site-packages (from jupyter-client<8.0->ipykernel>=4.5.1->ipywidgets>=7.5.0->bqplot>=0.10.1->vaex-jupyter<0.7,>=0.6.0->vaex) (0.3)\n",
      "Requirement already satisfied: jsonschema!=2.5.0,>=2.4 in /opt/conda/lib/python3.8/site-packages (from nbformat>=4.2.0->ipywidgets>=7.5.0->bqplot>=0.10.1->vaex-jupyter<0.7,>=0.6.0->vaex) (3.2.0)\n",
      "Requirement already satisfied: pyrsistent>=0.14.0 in /opt/conda/lib/python3.8/site-packages (from jsonschema!=2.5.0,>=2.4->nbformat>=4.2.0->ipywidgets>=7.5.0->bqplot>=0.10.1->vaex-jupyter<0.7,>=0.6.0->vaex) (0.18.0)\n",
      "Requirement already satisfied: attrs>=17.4.0 in /opt/conda/lib/python3.8/site-packages (from jsonschema!=2.5.0,>=2.4->nbformat>=4.2.0->ipywidgets>=7.5.0->bqplot>=0.10.1->vaex-jupyter<0.7,>=0.6.0->vaex) (21.2.0)\n",
      "Requirement already satisfied: ptyprocess>=0.5 in /opt/conda/lib/python3.8/site-packages (from pexpect>4.3->ipython>=4.0.0->ipywidgets>=7.5.0->bqplot>=0.10.1->vaex-jupyter<0.7,>=0.6.0->vaex) (0.7.0)\n",
      "Requirement already satisfied: wcwidth in /opt/conda/lib/python3.8/site-packages (from prompt-toolkit!=3.0.0,!=3.0.1,<3.1.0,>=2.0.0->ipython>=4.0.0->ipywidgets>=7.5.0->bqplot>=0.10.1->vaex-jupyter<0.7,>=0.6.0->vaex) (0.2.5)\n",
      "Requirement already satisfied: ipydatawidgets>=1.1.1 in /opt/conda/lib/python3.8/site-packages (from pythreejs>=1.0.0->ipyvolume>=0.4->vaex-jupyter<0.7,>=0.6.0->vaex) (4.2.0)\n",
      "Requirement already satisfied: jinja2 in /opt/conda/lib/python3.8/site-packages (from vaex-ml<0.15,>=0.14.0->vaex) (3.0.1)\n",
      "Requirement already satisfied: numba in /opt/conda/lib/python3.8/site-packages (from vaex-ml<0.15,>=0.14.0->vaex) (0.54.0)\n",
      "Requirement already satisfied: uvicorn[standard] in /opt/conda/lib/python3.8/site-packages (from vaex-server<0.7,>=0.6.1->vaex) (0.15.0)\n",
      "Requirement already satisfied: cachetools in /opt/conda/lib/python3.8/site-packages (from vaex-server<0.7,>=0.6.1->vaex) (4.2.2)\n",
      "Requirement already satisfied: fastapi in /opt/conda/lib/python3.8/site-packages (from vaex-server<0.7,>=0.6.1->vaex) (0.68.1)\n",
      "Requirement already satisfied: matplotlib>=1.3.1 in /opt/conda/lib/python3.8/site-packages (from vaex-viz<0.6,>=0.5.0->vaex) (3.4.3)\n",
      "Requirement already satisfied: cycler>=0.10 in /opt/conda/lib/python3.8/site-packages (from matplotlib>=1.3.1->vaex-viz<0.6,>=0.5.0->vaex) (0.10.0)\n",
      "Requirement already satisfied: pyparsing>=2.2.1 in /opt/conda/lib/python3.8/site-packages (from matplotlib>=1.3.1->vaex-viz<0.6,>=0.5.0->vaex) (2.4.7)\n",
      "Requirement already satisfied: kiwisolver>=1.0.1 in /opt/conda/lib/python3.8/site-packages (from matplotlib>=1.3.1->vaex-viz<0.6,>=0.5.0->vaex) (1.3.2)\n",
      "Requirement already satisfied: notebook>=4.4.1 in /opt/conda/lib/python3.8/site-packages (from widgetsnbextension~=3.5.0->ipywidgets>=7.5.0->bqplot>=0.10.1->vaex-jupyter<0.7,>=0.6.0->vaex) (6.4.3)\n",
      "Requirement already satisfied: nbconvert in /opt/conda/lib/python3.8/site-packages (from notebook>=4.4.1->widgetsnbextension~=3.5.0->ipywidgets>=7.5.0->bqplot>=0.10.1->vaex-jupyter<0.7,>=0.6.0->vaex) (6.1.0)\n",
      "Requirement already satisfied: Send2Trash>=1.5.0 in /opt/conda/lib/python3.8/site-packages (from notebook>=4.4.1->widgetsnbextension~=3.5.0->ipywidgets>=7.5.0->bqplot>=0.10.1->vaex-jupyter<0.7,>=0.6.0->vaex) (1.8.0)\n",
      "Requirement already satisfied: terminado>=0.8.3 in /opt/conda/lib/python3.8/site-packages (from notebook>=4.4.1->widgetsnbextension~=3.5.0->ipywidgets>=7.5.0->bqplot>=0.10.1->vaex-jupyter<0.7,>=0.6.0->vaex) (0.11.1)\n",
      "Requirement already satisfied: argon2-cffi in /opt/conda/lib/python3.8/site-packages (from notebook>=4.4.1->widgetsnbextension~=3.5.0->ipywidgets>=7.5.0->bqplot>=0.10.1->vaex-jupyter<0.7,>=0.6.0->vaex) (21.1.0)\n",
      "Requirement already satisfied: prometheus-client in /opt/conda/lib/python3.8/site-packages (from notebook>=4.4.1->widgetsnbextension~=3.5.0->ipywidgets>=7.5.0->bqplot>=0.10.1->vaex-jupyter<0.7,>=0.6.0->vaex) (0.11.0)\n",
      "Requirement already satisfied: cffi>=1.0.0 in /opt/conda/lib/python3.8/site-packages (from argon2-cffi->notebook>=4.4.1->widgetsnbextension~=3.5.0->ipywidgets>=7.5.0->bqplot>=0.10.1->vaex-jupyter<0.7,>=0.6.0->vaex) (1.14.6)\n",
      "Requirement already satisfied: pycparser in /opt/conda/lib/python3.8/site-packages (from cffi>=1.0.0->argon2-cffi->notebook>=4.4.1->widgetsnbextension~=3.5.0->ipywidgets>=7.5.0->bqplot>=0.10.1->vaex-jupyter<0.7,>=0.6.0->vaex) (2.20)\n",
      "Requirement already satisfied: pyerfa>=1.7.3 in /opt/conda/lib/python3.8/site-packages (from astropy->vaex-astro<0.10,>=0.9.0->vaex) (2.0.0)\n",
      "Requirement already satisfied: packaging>=20.0 in /opt/conda/lib/python3.8/site-packages (from dask->vaex-core<5,>=4.5.0->vaex) (21.0)\n",
      "Requirement already satisfied: partd>=0.3.10 in /opt/conda/lib/python3.8/site-packages (from dask->vaex-core<5,>=4.5.0->vaex) (1.2.0)\n",
      "Requirement already satisfied: fsspec>=0.6.0 in /opt/conda/lib/python3.8/site-packages (from dask->vaex-core<5,>=4.5.0->vaex) (2021.8.1)\n",
      "Requirement already satisfied: toolz>=0.8.2 in /opt/conda/lib/python3.8/site-packages (from dask->vaex-core<5,>=4.5.0->vaex) (0.11.1)\n",
      "Requirement already satisfied: locket in /opt/conda/lib/python3.8/site-packages (from partd>=0.3.10->dask->vaex-core<5,>=4.5.0->vaex) (0.2.1)\n",
      "Requirement already satisfied: pydantic!=1.7,!=1.7.1,!=1.7.2,!=1.7.3,!=1.8,!=1.8.1,<2.0.0,>=1.6.2 in /opt/conda/lib/python3.8/site-packages (from fastapi->vaex-server<0.7,>=0.6.1->vaex) (1.8.2)\n",
      "Requirement already satisfied: starlette==0.14.2 in /opt/conda/lib/python3.8/site-packages (from fastapi->vaex-server<0.7,>=0.6.1->vaex) (0.14.2)\n",
      "Requirement already satisfied: typing-extensions>=3.7.4.3 in /opt/conda/lib/python3.8/site-packages (from pydantic!=1.7,!=1.7.1,!=1.7.2,!=1.7.3,!=1.8,!=1.8.1,<2.0.0,>=1.6.2->fastapi->vaex-server<0.7,>=0.6.1->vaex) (3.10.0.2)\n",
      "Requirement already satisfied: MarkupSafe>=2.0 in /opt/conda/lib/python3.8/site-packages (from jinja2->vaex-ml<0.15,>=0.14.0->vaex) (2.0.1)\n",
      "Requirement already satisfied: pandocfilters>=1.4.1 in /opt/conda/lib/python3.8/site-packages (from nbconvert->notebook>=4.4.1->widgetsnbextension~=3.5.0->ipywidgets>=7.5.0->bqplot>=0.10.1->vaex-jupyter<0.7,>=0.6.0->vaex) (1.4.3)\n",
      "Requirement already satisfied: testpath in /opt/conda/lib/python3.8/site-packages (from nbconvert->notebook>=4.4.1->widgetsnbextension~=3.5.0->ipywidgets>=7.5.0->bqplot>=0.10.1->vaex-jupyter<0.7,>=0.6.0->vaex) (0.5.0)\n",
      "Requirement already satisfied: nbclient<0.6.0,>=0.5.0 in /opt/conda/lib/python3.8/site-packages (from nbconvert->notebook>=4.4.1->widgetsnbextension~=3.5.0->ipywidgets>=7.5.0->bqplot>=0.10.1->vaex-jupyter<0.7,>=0.6.0->vaex) (0.5.4)\n",
      "Requirement already satisfied: jupyterlab-pygments in /opt/conda/lib/python3.8/site-packages (from nbconvert->notebook>=4.4.1->widgetsnbextension~=3.5.0->ipywidgets>=7.5.0->bqplot>=0.10.1->vaex-jupyter<0.7,>=0.6.0->vaex) (0.1.2)\n",
      "Requirement already satisfied: mistune<2,>=0.8.1 in /opt/conda/lib/python3.8/site-packages (from nbconvert->notebook>=4.4.1->widgetsnbextension~=3.5.0->ipywidgets>=7.5.0->bqplot>=0.10.1->vaex-jupyter<0.7,>=0.6.0->vaex) (0.8.4)\n",
      "Requirement already satisfied: defusedxml in /opt/conda/lib/python3.8/site-packages (from nbconvert->notebook>=4.4.1->widgetsnbextension~=3.5.0->ipywidgets>=7.5.0->bqplot>=0.10.1->vaex-jupyter<0.7,>=0.6.0->vaex) (0.7.1)\n",
      "Requirement already satisfied: bleach in /opt/conda/lib/python3.8/site-packages (from nbconvert->notebook>=4.4.1->widgetsnbextension~=3.5.0->ipywidgets>=7.5.0->bqplot>=0.10.1->vaex-jupyter<0.7,>=0.6.0->vaex) (4.1.0)\n",
      "Requirement already satisfied: webencodings in /opt/conda/lib/python3.8/site-packages (from bleach->nbconvert->notebook>=4.4.1->widgetsnbextension~=3.5.0->ipywidgets>=7.5.0->bqplot>=0.10.1->vaex-jupyter<0.7,>=0.6.0->vaex) (0.5.1)\n",
      "Requirement already satisfied: llvmlite<0.38,>=0.37.0rc1 in /opt/conda/lib/python3.8/site-packages (from numba->vaex-ml<0.15,>=0.14.0->vaex) (0.37.0)\n",
      "Requirement already satisfied: pytz>=2017.3 in /opt/conda/lib/python3.8/site-packages (from pandas->vaex-core<5,>=4.5.0->vaex) (2021.1)\n",
      "Requirement already satisfied: python-utils>=2.3.0 in /opt/conda/lib/python3.8/site-packages (from progressbar2->vaex-core<5,>=4.5.0->vaex) (2.5.6)\n",
      "Requirement already satisfied: certifi>=2017.4.17 in /opt/conda/lib/python3.8/site-packages (from requests->vaex-core<5,>=4.5.0->vaex) (2021.5.30)\n",
      "Requirement already satisfied: idna<4,>=2.5 in /opt/conda/lib/python3.8/site-packages (from requests->vaex-core<5,>=4.5.0->vaex) (3.2)\n",
      "Requirement already satisfied: urllib3<1.27,>=1.21.1 in /opt/conda/lib/python3.8/site-packages (from requests->vaex-core<5,>=4.5.0->vaex) (1.26.6)\n",
      "Requirement already satisfied: charset-normalizer~=2.0.0 in /opt/conda/lib/python3.8/site-packages (from requests->vaex-core<5,>=4.5.0->vaex) (2.0.4)\n",
      "Requirement already satisfied: click>=7.0 in /opt/conda/lib/python3.8/site-packages (from uvicorn[standard]->vaex-server<0.7,>=0.6.1->vaex) (7.1.2)\n",
      "Requirement already satisfied: asgiref>=3.4.0 in /opt/conda/lib/python3.8/site-packages (from uvicorn[standard]->vaex-server<0.7,>=0.6.1->vaex) (3.4.1)\n",
      "Requirement already satisfied: h11>=0.8 in /opt/conda/lib/python3.8/site-packages (from uvicorn[standard]->vaex-server<0.7,>=0.6.1->vaex) (0.12.0)\n",
      "Requirement already satisfied: watchgod>=0.6 in /opt/conda/lib/python3.8/site-packages (from uvicorn[standard]->vaex-server<0.7,>=0.6.1->vaex) (0.7)\n",
      "Requirement already satisfied: httptools==0.2.* in /opt/conda/lib/python3.8/site-packages (from uvicorn[standard]->vaex-server<0.7,>=0.6.1->vaex) (0.2.0)\n",
      "Requirement already satisfied: python-dotenv>=0.13 in /opt/conda/lib/python3.8/site-packages (from uvicorn[standard]->vaex-server<0.7,>=0.6.1->vaex) (0.19.0)\n",
      "Requirement already satisfied: uvloop!=0.15.0,!=0.15.1,>=0.14.0 in /opt/conda/lib/python3.8/site-packages (from uvicorn[standard]->vaex-server<0.7,>=0.6.1->vaex) (0.16.0)\n",
      "Requirement already satisfied: websockets>=9.1 in /opt/conda/lib/python3.8/site-packages (from uvicorn[standard]->vaex-server<0.7,>=0.6.1->vaex) (10.0)\n",
      "\u001b[33mWARNING: Running pip as the 'root' user can result in broken permissions and conflicting behaviour with the system package manager. It is recommended to use a virtual environment instead: https://pip.pypa.io/warnings/venv\u001b[0m\n"
     ]
    }
   ],
   "source": [
    "!pip install vaex"
   ]
  },
  {
   "cell_type": "code",
   "execution_count": 6,
   "metadata": {
    "collapsed": true,
    "jupyter": {
     "outputs_hidden": true
    },
    "tags": []
   },
   "outputs": [
    {
     "ename": "ContextualVersionConflict",
     "evalue": "(numpy 1.21.2 (/opt/conda/lib/python3.8/site-packages), Requirement.parse('numpy<1.21,>=1.17'), {'numba'})",
     "output_type": "error",
     "traceback": [
      "\u001b[0;31m---------------------------------------------------------------------------\u001b[0m",
      "\u001b[0;31mContextualVersionConflict\u001b[0m                 Traceback (most recent call last)",
      "\u001b[0;32m/tmp/ipykernel_11273/3457946250.py\u001b[0m in \u001b[0;36m<module>\u001b[0;34m\u001b[0m\n\u001b[0;32m----> 1\u001b[0;31m \u001b[0;32mimport\u001b[0m \u001b[0mvaex\u001b[0m\u001b[0;34m\u001b[0m\u001b[0;34m\u001b[0m\u001b[0m\n\u001b[0m",
      "\u001b[0;32m/opt/conda/lib/python3.8/site-packages/vaex/__init__.py\u001b[0m in \u001b[0;36m<module>\u001b[0;34m\u001b[0m\n\u001b[1;32m     67\u001b[0m     \u001b[0;32mraise\u001b[0m\u001b[0;34m\u001b[0m\u001b[0;34m\u001b[0m\u001b[0m\n\u001b[1;32m     68\u001b[0m \u001b[0;34m\u001b[0m\u001b[0m\n\u001b[0;32m---> 69\u001b[0;31m \u001b[0m__version__\u001b[0m \u001b[0;34m=\u001b[0m \u001b[0mversion\u001b[0m\u001b[0;34m.\u001b[0m\u001b[0mget_versions\u001b[0m\u001b[0;34m(\u001b[0m\u001b[0;34m)\u001b[0m\u001b[0;34m\u001b[0m\u001b[0;34m\u001b[0m\u001b[0m\n\u001b[0m\u001b[1;32m     70\u001b[0m \u001b[0;34m\u001b[0m\u001b[0m\n\u001b[1;32m     71\u001b[0m \u001b[0;34m\u001b[0m\u001b[0m\n",
      "\u001b[0;32m/opt/conda/lib/python3.8/site-packages/vaex/version.py\u001b[0m in \u001b[0;36mget_versions\u001b[0;34m()\u001b[0m\n\u001b[1;32m     13\u001b[0m         \u001b[0;32mexcept\u001b[0m \u001b[0mpkg_resources\u001b[0m\u001b[0;34m.\u001b[0m\u001b[0mDistributionNotFound\u001b[0m\u001b[0;34m:\u001b[0m\u001b[0;34m\u001b[0m\u001b[0;34m\u001b[0m\u001b[0m\n\u001b[1;32m     14\u001b[0m             \u001b[0;32mreturn\u001b[0m \u001b[0;32mFalse\u001b[0m\u001b[0;34m\u001b[0m\u001b[0;34m\u001b[0m\u001b[0m\n\u001b[0;32m---> 15\u001b[0;31m     \u001b[0;32mreturn\u001b[0m \u001b[0;34m{\u001b[0m\u001b[0mp\u001b[0m\u001b[0;34m:\u001b[0m \u001b[0mpkg_resources\u001b[0m\u001b[0;34m.\u001b[0m\u001b[0mget_distribution\u001b[0m\u001b[0;34m(\u001b[0m\u001b[0mp\u001b[0m\u001b[0;34m)\u001b[0m\u001b[0;34m.\u001b[0m\u001b[0mversion\u001b[0m \u001b[0;32mfor\u001b[0m \u001b[0mp\u001b[0m \u001b[0;32min\u001b[0m \u001b[0mpackages\u001b[0m \u001b[0;32mif\u001b[0m \u001b[0mis_installed\u001b[0m\u001b[0;34m(\u001b[0m\u001b[0mp\u001b[0m\u001b[0;34m)\u001b[0m\u001b[0;34m}\u001b[0m\u001b[0;34m\u001b[0m\u001b[0;34m\u001b[0m\u001b[0m\n\u001b[0m",
      "\u001b[0;32m/opt/conda/lib/python3.8/site-packages/vaex/version.py\u001b[0m in \u001b[0;36m<dictcomp>\u001b[0;34m(.0)\u001b[0m\n\u001b[1;32m     13\u001b[0m         \u001b[0;32mexcept\u001b[0m \u001b[0mpkg_resources\u001b[0m\u001b[0;34m.\u001b[0m\u001b[0mDistributionNotFound\u001b[0m\u001b[0;34m:\u001b[0m\u001b[0;34m\u001b[0m\u001b[0;34m\u001b[0m\u001b[0m\n\u001b[1;32m     14\u001b[0m             \u001b[0;32mreturn\u001b[0m \u001b[0;32mFalse\u001b[0m\u001b[0;34m\u001b[0m\u001b[0;34m\u001b[0m\u001b[0m\n\u001b[0;32m---> 15\u001b[0;31m     \u001b[0;32mreturn\u001b[0m \u001b[0;34m{\u001b[0m\u001b[0mp\u001b[0m\u001b[0;34m:\u001b[0m \u001b[0mpkg_resources\u001b[0m\u001b[0;34m.\u001b[0m\u001b[0mget_distribution\u001b[0m\u001b[0;34m(\u001b[0m\u001b[0mp\u001b[0m\u001b[0;34m)\u001b[0m\u001b[0;34m.\u001b[0m\u001b[0mversion\u001b[0m \u001b[0;32mfor\u001b[0m \u001b[0mp\u001b[0m \u001b[0;32min\u001b[0m \u001b[0mpackages\u001b[0m \u001b[0;32mif\u001b[0m \u001b[0mis_installed\u001b[0m\u001b[0;34m(\u001b[0m\u001b[0mp\u001b[0m\u001b[0;34m)\u001b[0m\u001b[0;34m}\u001b[0m\u001b[0;34m\u001b[0m\u001b[0;34m\u001b[0m\u001b[0m\n\u001b[0m",
      "\u001b[0;32m/opt/conda/lib/python3.8/site-packages/vaex/version.py\u001b[0m in \u001b[0;36mis_installed\u001b[0;34m(p)\u001b[0m\n\u001b[1;32m      9\u001b[0m     \u001b[0;32mdef\u001b[0m \u001b[0mis_installed\u001b[0m\u001b[0;34m(\u001b[0m\u001b[0mp\u001b[0m\u001b[0;34m)\u001b[0m\u001b[0;34m:\u001b[0m\u001b[0;34m\u001b[0m\u001b[0;34m\u001b[0m\u001b[0m\n\u001b[1;32m     10\u001b[0m         \u001b[0;32mtry\u001b[0m\u001b[0;34m:\u001b[0m\u001b[0;34m\u001b[0m\u001b[0;34m\u001b[0m\u001b[0m\n\u001b[0;32m---> 11\u001b[0;31m             \u001b[0mpkg_resources\u001b[0m\u001b[0;34m.\u001b[0m\u001b[0mget_distribution\u001b[0m\u001b[0;34m(\u001b[0m\u001b[0mp\u001b[0m\u001b[0;34m)\u001b[0m\u001b[0;34m\u001b[0m\u001b[0;34m\u001b[0m\u001b[0m\n\u001b[0m\u001b[1;32m     12\u001b[0m             \u001b[0;32mreturn\u001b[0m \u001b[0;32mTrue\u001b[0m\u001b[0;34m\u001b[0m\u001b[0;34m\u001b[0m\u001b[0m\n\u001b[1;32m     13\u001b[0m         \u001b[0;32mexcept\u001b[0m \u001b[0mpkg_resources\u001b[0m\u001b[0;34m.\u001b[0m\u001b[0mDistributionNotFound\u001b[0m\u001b[0;34m:\u001b[0m\u001b[0;34m\u001b[0m\u001b[0;34m\u001b[0m\u001b[0m\n",
      "\u001b[0;32m/opt/conda/lib/python3.8/site-packages/pkg_resources/__init__.py\u001b[0m in \u001b[0;36mget_distribution\u001b[0;34m(dist)\u001b[0m\n\u001b[1;32m    464\u001b[0m         \u001b[0mdist\u001b[0m \u001b[0;34m=\u001b[0m \u001b[0mRequirement\u001b[0m\u001b[0;34m.\u001b[0m\u001b[0mparse\u001b[0m\u001b[0;34m(\u001b[0m\u001b[0mdist\u001b[0m\u001b[0;34m)\u001b[0m\u001b[0;34m\u001b[0m\u001b[0;34m\u001b[0m\u001b[0m\n\u001b[1;32m    465\u001b[0m     \u001b[0;32mif\u001b[0m \u001b[0misinstance\u001b[0m\u001b[0;34m(\u001b[0m\u001b[0mdist\u001b[0m\u001b[0;34m,\u001b[0m \u001b[0mRequirement\u001b[0m\u001b[0;34m)\u001b[0m\u001b[0;34m:\u001b[0m\u001b[0;34m\u001b[0m\u001b[0;34m\u001b[0m\u001b[0m\n\u001b[0;32m--> 466\u001b[0;31m         \u001b[0mdist\u001b[0m \u001b[0;34m=\u001b[0m \u001b[0mget_provider\u001b[0m\u001b[0;34m(\u001b[0m\u001b[0mdist\u001b[0m\u001b[0;34m)\u001b[0m\u001b[0;34m\u001b[0m\u001b[0;34m\u001b[0m\u001b[0m\n\u001b[0m\u001b[1;32m    467\u001b[0m     \u001b[0;32mif\u001b[0m \u001b[0;32mnot\u001b[0m \u001b[0misinstance\u001b[0m\u001b[0;34m(\u001b[0m\u001b[0mdist\u001b[0m\u001b[0;34m,\u001b[0m \u001b[0mDistribution\u001b[0m\u001b[0;34m)\u001b[0m\u001b[0;34m:\u001b[0m\u001b[0;34m\u001b[0m\u001b[0;34m\u001b[0m\u001b[0m\n\u001b[1;32m    468\u001b[0m         \u001b[0;32mraise\u001b[0m \u001b[0mTypeError\u001b[0m\u001b[0;34m(\u001b[0m\u001b[0;34m\"Expected string, Requirement, or Distribution\"\u001b[0m\u001b[0;34m,\u001b[0m \u001b[0mdist\u001b[0m\u001b[0;34m)\u001b[0m\u001b[0;34m\u001b[0m\u001b[0;34m\u001b[0m\u001b[0m\n",
      "\u001b[0;32m/opt/conda/lib/python3.8/site-packages/pkg_resources/__init__.py\u001b[0m in \u001b[0;36mget_provider\u001b[0;34m(moduleOrReq)\u001b[0m\n\u001b[1;32m    340\u001b[0m     \u001b[0;34m\"\"\"Return an IResourceProvider for the named module or requirement\"\"\"\u001b[0m\u001b[0;34m\u001b[0m\u001b[0;34m\u001b[0m\u001b[0m\n\u001b[1;32m    341\u001b[0m     \u001b[0;32mif\u001b[0m \u001b[0misinstance\u001b[0m\u001b[0;34m(\u001b[0m\u001b[0mmoduleOrReq\u001b[0m\u001b[0;34m,\u001b[0m \u001b[0mRequirement\u001b[0m\u001b[0;34m)\u001b[0m\u001b[0;34m:\u001b[0m\u001b[0;34m\u001b[0m\u001b[0;34m\u001b[0m\u001b[0m\n\u001b[0;32m--> 342\u001b[0;31m         \u001b[0;32mreturn\u001b[0m \u001b[0mworking_set\u001b[0m\u001b[0;34m.\u001b[0m\u001b[0mfind\u001b[0m\u001b[0;34m(\u001b[0m\u001b[0mmoduleOrReq\u001b[0m\u001b[0;34m)\u001b[0m \u001b[0;32mor\u001b[0m \u001b[0mrequire\u001b[0m\u001b[0;34m(\u001b[0m\u001b[0mstr\u001b[0m\u001b[0;34m(\u001b[0m\u001b[0mmoduleOrReq\u001b[0m\u001b[0;34m)\u001b[0m\u001b[0;34m)\u001b[0m\u001b[0;34m[\u001b[0m\u001b[0;36m0\u001b[0m\u001b[0;34m]\u001b[0m\u001b[0;34m\u001b[0m\u001b[0;34m\u001b[0m\u001b[0m\n\u001b[0m\u001b[1;32m    343\u001b[0m     \u001b[0;32mtry\u001b[0m\u001b[0;34m:\u001b[0m\u001b[0;34m\u001b[0m\u001b[0;34m\u001b[0m\u001b[0m\n\u001b[1;32m    344\u001b[0m         \u001b[0mmodule\u001b[0m \u001b[0;34m=\u001b[0m \u001b[0msys\u001b[0m\u001b[0;34m.\u001b[0m\u001b[0mmodules\u001b[0m\u001b[0;34m[\u001b[0m\u001b[0mmoduleOrReq\u001b[0m\u001b[0;34m]\u001b[0m\u001b[0;34m\u001b[0m\u001b[0;34m\u001b[0m\u001b[0m\n",
      "\u001b[0;32m/opt/conda/lib/python3.8/site-packages/pkg_resources/__init__.py\u001b[0m in \u001b[0;36mrequire\u001b[0;34m(self, *requirements)\u001b[0m\n\u001b[1;32m    884\u001b[0m         \u001b[0mincluded\u001b[0m\u001b[0;34m,\u001b[0m \u001b[0meven\u001b[0m \u001b[0;32mif\u001b[0m \u001b[0mthey\u001b[0m \u001b[0mwere\u001b[0m \u001b[0malready\u001b[0m \u001b[0mactivated\u001b[0m \u001b[0;32min\u001b[0m \u001b[0mthis\u001b[0m \u001b[0mworking\u001b[0m \u001b[0mset\u001b[0m\u001b[0;34m.\u001b[0m\u001b[0;34m\u001b[0m\u001b[0;34m\u001b[0m\u001b[0m\n\u001b[1;32m    885\u001b[0m         \"\"\"\n\u001b[0;32m--> 886\u001b[0;31m         \u001b[0mneeded\u001b[0m \u001b[0;34m=\u001b[0m \u001b[0mself\u001b[0m\u001b[0;34m.\u001b[0m\u001b[0mresolve\u001b[0m\u001b[0;34m(\u001b[0m\u001b[0mparse_requirements\u001b[0m\u001b[0;34m(\u001b[0m\u001b[0mrequirements\u001b[0m\u001b[0;34m)\u001b[0m\u001b[0;34m)\u001b[0m\u001b[0;34m\u001b[0m\u001b[0;34m\u001b[0m\u001b[0m\n\u001b[0m\u001b[1;32m    887\u001b[0m \u001b[0;34m\u001b[0m\u001b[0m\n\u001b[1;32m    888\u001b[0m         \u001b[0;32mfor\u001b[0m \u001b[0mdist\u001b[0m \u001b[0;32min\u001b[0m \u001b[0mneeded\u001b[0m\u001b[0;34m:\u001b[0m\u001b[0;34m\u001b[0m\u001b[0;34m\u001b[0m\u001b[0m\n",
      "\u001b[0;32m/opt/conda/lib/python3.8/site-packages/pkg_resources/__init__.py\u001b[0m in \u001b[0;36mresolve\u001b[0;34m(self, requirements, env, installer, replace_conflicting, extras)\u001b[0m\n\u001b[1;32m    775\u001b[0m                 \u001b[0;31m# Oops, the \"best\" so far conflicts with a dependency\u001b[0m\u001b[0;34m\u001b[0m\u001b[0;34m\u001b[0m\u001b[0;34m\u001b[0m\u001b[0m\n\u001b[1;32m    776\u001b[0m                 \u001b[0mdependent_req\u001b[0m \u001b[0;34m=\u001b[0m \u001b[0mrequired_by\u001b[0m\u001b[0;34m[\u001b[0m\u001b[0mreq\u001b[0m\u001b[0;34m]\u001b[0m\u001b[0;34m\u001b[0m\u001b[0;34m\u001b[0m\u001b[0m\n\u001b[0;32m--> 777\u001b[0;31m                 \u001b[0;32mraise\u001b[0m \u001b[0mVersionConflict\u001b[0m\u001b[0;34m(\u001b[0m\u001b[0mdist\u001b[0m\u001b[0;34m,\u001b[0m \u001b[0mreq\u001b[0m\u001b[0;34m)\u001b[0m\u001b[0;34m.\u001b[0m\u001b[0mwith_context\u001b[0m\u001b[0;34m(\u001b[0m\u001b[0mdependent_req\u001b[0m\u001b[0;34m)\u001b[0m\u001b[0;34m\u001b[0m\u001b[0;34m\u001b[0m\u001b[0m\n\u001b[0m\u001b[1;32m    778\u001b[0m \u001b[0;34m\u001b[0m\u001b[0m\n\u001b[1;32m    779\u001b[0m             \u001b[0;31m# push the new requirements onto the stack\u001b[0m\u001b[0;34m\u001b[0m\u001b[0;34m\u001b[0m\u001b[0;34m\u001b[0m\u001b[0m\n",
      "\u001b[0;31mContextualVersionConflict\u001b[0m: (numpy 1.21.2 (/opt/conda/lib/python3.8/site-packages), Requirement.parse('numpy<1.21,>=1.17'), {'numba'})"
     ]
    }
   ],
   "source": [
    "import vaex"
   ]
  },
  {
   "cell_type": "code",
   "execution_count": null,
   "metadata": {
    "collapsed": true,
    "jupyter": {
     "outputs_hidden": true
    },
    "tags": []
   },
   "outputs": [
    {
     "name": "stdout",
     "output_type": "stream",
     "text": [
      "\u001b[33mWARNING: The directory '/home/jovyan/.cache/pip' or its parent directory is not owned or is not writable by the current user. The cache has been disabled. Check the permissions and owner of that directory. If executing pip with sudo, you should use sudo's -H flag.\u001b[0m\n",
      "Collecting numpy==1.17\n",
      "  Downloading numpy-1.17.0.zip (6.5 MB)\n",
      "\u001b[K     |████████████████████████████████| 6.5 MB 913 kB/s eta 0:00:01\n",
      "\u001b[?25hBuilding wheels for collected packages: numpy\n",
      "  Building wheel for numpy (setup.py) ... \u001b[?25l-"
     ]
    }
   ],
   "source": [
    "!pip install numpy==1.17"
   ]
  },
  {
   "cell_type": "code",
   "execution_count": 10,
   "metadata": {},
   "outputs": [
    {
     "data": {
      "text/plain": [
       "141838367.54999998"
      ]
     },
     "execution_count": 10,
     "metadata": {},
     "output_type": "execute_result"
    }
   ],
   "source": [
    "import pandas as pd\n",
    "#gcp-Nigeriauc-Sept-21-test-0922064541/final_output_Oct_final1.csv\n",
    "#df = pd.read_csv('final_data_till_Aug_Flag_without_adj.csv')\n",
    "df = pd.read_csv('final_data_till_Aug_Flag_with_adj_1.csv')\n",
    "df[\"order_qty\"].sum()"
   ]
  },
  {
   "cell_type": "code",
   "execution_count": null,
   "metadata": {},
   "outputs": [],
   "source": []
  },
  {
   "cell_type": "markdown",
   "metadata": {},
   "source": [
    "## Edit KFP components from UI"
   ]
  },
  {
   "cell_type": "code",
   "execution_count": null,
   "metadata": {},
   "outputs": [],
   "source": [
    "import kfp"
   ]
  },
  {
   "cell_type": "code",
   "execution_count": null,
   "metadata": {},
   "outputs": [],
   "source": [
    "kfp.Client().list_experiments()"
   ]
  },
  {
   "cell_type": "code",
   "execution_count": null,
   "metadata": {},
   "outputs": [],
   "source": [
    "kfp.Client().delete_experiment('3369b229-2016-435e-825d-3b28ab934a19')"
   ]
  },
  {
   "cell_type": "code",
   "execution_count": null,
   "metadata": {},
   "outputs": [],
   "source": [
    "kfp.Client().list_experiments()"
   ]
  },
  {
   "cell_type": "code",
   "execution_count": null,
   "metadata": {},
   "outputs": [],
   "source": []
  },
  {
   "cell_type": "code",
   "execution_count": null,
   "metadata": {},
   "outputs": [],
   "source": []
  },
  {
   "cell_type": "code",
   "execution_count": null,
   "metadata": {},
   "outputs": [],
   "source": []
  }
 ],
 "metadata": {
  "kernelspec": {
   "display_name": "Python 3 (ipykernel)",
   "language": "python",
   "name": "python3"
  },
  "kubeflow_notebook": {
   "autosnapshot": false,
   "docker_image": "",
   "experiment": {
    "id": "",
    "name": ""
   },
   "experiment_name": "",
   "katib_metadata": {
    "algorithm": {
     "algorithmName": "grid"
    },
    "maxFailedTrialCount": 3,
    "maxTrialCount": 12,
    "objective": {
     "objectiveMetricName": "",
     "type": "minimize"
    },
    "parallelTrialCount": 3,
    "parameters": []
   },
   "katib_run": false,
   "pipeline_description": "",
   "pipeline_name": "",
   "snapshot_volumes": false,
   "steps_defaults": [],
   "volume_access_mode": "rwm",
   "volumes": []
  },
  "language_info": {
   "codemirror_mode": {
    "name": "ipython",
    "version": 3
   },
   "file_extension": ".py",
   "mimetype": "text/x-python",
   "name": "python",
   "nbconvert_exporter": "python",
   "pygments_lexer": "ipython3",
   "version": "3.8.12"
  }
 },
 "nbformat": 4,
 "nbformat_minor": 5
}
